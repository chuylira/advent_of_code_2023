{
 "cells": [
  {
   "cell_type": "code",
   "execution_count": 123,
   "metadata": {},
   "outputs": [
    {
     "name": "stdout",
     "output_type": "stream",
     "text": [
      "532331\n"
     ]
    }
   ],
   "source": [
    "import re\n",
    "\n",
    "f=open('day3_input1.txt','r')\n",
    "lines=f.readlines()\n",
    "suma=0\n",
    "for row_num,line in enumerate(lines,0):\n",
    "    integers = re.findall(r'\\b\\d+\\b', line)\n",
    "    integers = list(set(integers))\n",
    "    for i in integers:\n",
    "        pattern = re.compile(r'\\b' + re.escape(i) + r'\\b')\n",
    "        matches = [match.start() for match in pattern.finditer(line)]\n",
    "        num_size=len(i)\n",
    "        for match_no,match in enumerate(matches,1):\n",
    "            num_to_sum=False\n",
    "            x_min=match-1\n",
    "            x_max=match+num_size+1\n",
    "            if x_max>140:\n",
    "                x_max=140\n",
    "            if x_min<0:\n",
    "                x_min=0\n",
    "            if row_num!=0:\n",
    "                row_list=list(lines[row_num-1][:-1])\n",
    "                for j in range(x_min,x_max):\n",
    "                    if (row_list[j]!='.')&(not row_list[j].isdigit()):\n",
    "                        num_to_sum=True\n",
    "                        break\n",
    "            # check current row\n",
    "            row_list=list(lines[row_num][:-1])\n",
    "            if not num_to_sum:\n",
    "                for j in range(x_min,x_max):\n",
    "                    if (row_list[j]!='.')&(not row_list[j].isdigit()):\n",
    "                        num_to_sum=True\n",
    "                        break\n",
    "            #check row below\n",
    "            if (row_num!=(len(lines)-1))&(not num_to_sum):\n",
    "                row_list=list(lines[row_num+1][:-1])\n",
    "                for j in range(x_min,x_max):\n",
    "                    if (row_list[j]!='.')&(not row_list[j].isdigit()):\n",
    "                        num_to_sum=True\n",
    "                        break\n",
    "            if num_to_sum:\n",
    "                suma+=int(i)\n",
    "\n",
    "print(suma)"
   ]
  },
  {
   "cell_type": "code",
   "execution_count": 183,
   "metadata": {},
   "outputs": [
    {
     "name": "stdout",
     "output_type": "stream",
     "text": [
      "82301120\n"
     ]
    }
   ],
   "source": [
    "import re\n",
    "\n",
    "f=open('day3_input1.txt','r')\n",
    "lines=f.readlines()\n",
    "\n",
    "d={}\n",
    "for row_num,line in enumerate(lines,0):\n",
    "    integers = re.findall(r'\\b\\d+\\b', line)\n",
    "    integers = list(set(integers))\n",
    "    d.setdefault(row_num,{})\n",
    "    for i in integers:\n",
    "        pattern = re.compile(r'\\b' + re.escape(i) + r'\\b')\n",
    "        matches = [match.start() for match in pattern.finditer(line)]\n",
    "        num_size=len(i)\n",
    "        indexes=[]\n",
    "        for match_no,match in enumerate(matches,1):\n",
    "            indexes=indexes+list(range(match,match+num_size))\n",
    "        d[row_num][i]=indexes\n",
    "\n",
    "suma=0\n",
    "for row_num,line in enumerate(lines,0):\n",
    "    pattern = re.compile(r'\\*')\n",
    "    matches = [match.start() for match in pattern.finditer(line)]\n",
    "    for match in matches:\n",
    "        x_min=match-1\n",
    "        if x_min<0:\n",
    "            x_min=0\n",
    "        x_max=match+2\n",
    "        if x_max>140:\n",
    "            x_max=140\n",
    "        neighbor_list=[]\n",
    "        range_to_review=list(range(x_min,x_max))\n",
    "        #check row above\n",
    "        if row_num!=0:\n",
    "            nums_found = [key for key, value in d[row_num-1].items() if set(range_to_review).intersection(value)]\n",
    "            neighbor_list=neighbor_list+nums_found\n",
    "        # check current row\n",
    "        nums_found = [key for key, value in d[row_num].items() if set(range_to_review).intersection(value)]\n",
    "        neighbor_list=neighbor_list+nums_found\n",
    "        # check row below\n",
    "        if row_num!=(len(lines)-1):\n",
    "            nums_found = [key for key, value in d[row_num+1].items() if set(range_to_review).intersection(value)]\n",
    "            neighbor_list=neighbor_list+nums_found\n",
    "        if len(neighbor_list)==2:\n",
    "            suma+=(int(neighbor_list[0])*int(neighbor_list[1]))\n",
    "\n",
    "print(suma)\n",
    "  "
   ]
  }
 ],
 "metadata": {
  "kernelspec": {
   "display_name": "base",
   "language": "python",
   "name": "python3"
  },
  "language_info": {
   "codemirror_mode": {
    "name": "ipython",
    "version": 3
   },
   "file_extension": ".py",
   "mimetype": "text/x-python",
   "name": "python",
   "nbconvert_exporter": "python",
   "pygments_lexer": "ipython3",
   "version": "3.9.7"
  }
 },
 "nbformat": 4,
 "nbformat_minor": 2
}
