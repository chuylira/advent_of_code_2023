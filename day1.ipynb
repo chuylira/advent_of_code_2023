{
 "cells": [
  {
   "cell_type": "code",
   "execution_count": 8,
   "metadata": {},
   "outputs": [
    {
     "name": "stdout",
     "output_type": "stream",
     "text": [
      "53651\n"
     ]
    }
   ],
   "source": [
    "f=open('day1_input1.txt','r')\n",
    "suma=0\n",
    "for i in f:\n",
    "    row_list=list(i)\n",
    "    row_numbers=[]\n",
    "    for e in row_list:\n",
    "        try:\n",
    "            a=int(e)\n",
    "            row_numbers.append(a)\n",
    "        except:\n",
    "            pass\n",
    "    to_sum=int(str(row_numbers[0])+str(row_numbers[-1]))\n",
    "    suma+=to_sum\n",
    "\n",
    "print(suma)"
   ]
  },
  {
   "cell_type": "code",
   "execution_count": 71,
   "metadata": {},
   "outputs": [],
   "source": [
    "import re\n",
    "\n",
    "def find_spelled_number(text):\n",
    "    pattern = re.compile(r'(?=(one|two|three|four|five|six|seven|eight|nine|ten))', re.IGNORECASE)\n",
    "    matches = pattern.findall(text)\n",
    "    return matches\n",
    "\n",
    "d={\n",
    "    'one': '1',\n",
    "    'two': '2',\n",
    "    'three': '3',\n",
    "    'four': '4',\n",
    "    'five': '5',\n",
    "    'six': '6',\n",
    "    'seven': '7',\n",
    "    'eight': '8',\n",
    "    'nine': '9',\n",
    "    'ten': '10'\n",
    "}"
   ]
  },
  {
   "cell_type": "code",
   "execution_count": 72,
   "metadata": {},
   "outputs": [
    {
     "name": "stdout",
     "output_type": "stream",
     "text": [
      "53894\n"
     ]
    }
   ],
   "source": [
    "f=open('day1_input1.txt','r')\n",
    "suma=0\n",
    "for i in f:\n",
    "    text=str(i)\n",
    "    result = find_spelled_number(text)\n",
    "    for r in result:\n",
    "        a=text.find(r)\n",
    "        text=text[:a+1]+d[r]+text[a+1:]\n",
    "    row_list=list(text)\n",
    "    row_numbers=[]\n",
    "    for e in row_list:\n",
    "        try:\n",
    "            a=int(e)\n",
    "            row_numbers.append(a)\n",
    "        except:\n",
    "            pass\n",
    "    to_sum=int(str(row_numbers[0])+str(row_numbers[-1]))\n",
    "    suma+=to_sum\n",
    "\n",
    "print(suma)"
   ]
  }
 ],
 "metadata": {
  "kernelspec": {
   "display_name": "base",
   "language": "python",
   "name": "python3"
  },
  "language_info": {
   "codemirror_mode": {
    "name": "ipython",
    "version": 3
   },
   "file_extension": ".py",
   "mimetype": "text/x-python",
   "name": "python",
   "nbconvert_exporter": "python",
   "pygments_lexer": "ipython3",
   "version": "3.9.7"
  }
 },
 "nbformat": 4,
 "nbformat_minor": 2
}
