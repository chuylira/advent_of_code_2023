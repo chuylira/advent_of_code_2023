{
 "cells": [
  {
   "cell_type": "code",
   "execution_count": 30,
   "metadata": {},
   "outputs": [],
   "source": [
    "def calc_diff(num_list):\n",
    "    diff_list=[]\n",
    "    for i in range(0,len(num_list)-1):\n",
    "        diff_list.append(int(num_list[i+1])-int(num_list[i]))\n",
    "    return diff_list\n"
   ]
  },
  {
   "cell_type": "code",
   "execution_count": 31,
   "metadata": {},
   "outputs": [
    {
     "name": "stdout",
     "output_type": "stream",
     "text": [
      "1772145754\n"
     ]
    }
   ],
   "source": [
    "f=open('day9_input1.txt','r')\n",
    "suma=0\n",
    "for i in f:\n",
    "    d={}\n",
    "    lvl=1\n",
    "    num_list = i.split()\n",
    "    d[lvl]=num_list\n",
    "    last_lvl = False\n",
    "    while not last_lvl:\n",
    "        diff_list = calc_diff(d[lvl])\n",
    "        if all(element == 0 for element in diff_list):\n",
    "            last_lvl=True\n",
    "        lvl+=1\n",
    "        d[lvl]=diff_list\n",
    "    for j in range(lvl-1,0,-1):\n",
    "        to_sum = int(d[j+1][-1])\n",
    "        new_val = int(d[j][-1])+to_sum\n",
    "        d[j].append(new_val)\n",
    "    suma+=int(d[1][-1])\n",
    "\n",
    "print(suma)\n"
   ]
  },
  {
   "cell_type": "code",
   "execution_count": 32,
   "metadata": {},
   "outputs": [
    {
     "name": "stdout",
     "output_type": "stream",
     "text": [
      "867\n"
     ]
    }
   ],
   "source": [
    "f=open('day9_input1.txt','r')\n",
    "suma=0\n",
    "for i in f:\n",
    "    d={}\n",
    "    lvl=1\n",
    "    num_list = i.split()\n",
    "    num_list.reverse()\n",
    "    d[lvl]=num_list\n",
    "    last_lvl = False\n",
    "    while not last_lvl:\n",
    "        diff_list = calc_diff(d[lvl])\n",
    "        if all(element == 0 for element in diff_list):\n",
    "            last_lvl=True\n",
    "        lvl+=1\n",
    "        d[lvl]=diff_list\n",
    "    for j in range(lvl-1,0,-1):\n",
    "        to_sum = int(d[j+1][-1])\n",
    "        new_val = int(d[j][-1])+to_sum\n",
    "        d[j].append(new_val)\n",
    "    suma+=int(d[1][-1])\n",
    "\n",
    "print(suma)\n"
   ]
  }
 ],
 "metadata": {
  "kernelspec": {
   "display_name": "base",
   "language": "python",
   "name": "python3"
  },
  "language_info": {
   "codemirror_mode": {
    "name": "ipython",
    "version": 3
   },
   "file_extension": ".py",
   "mimetype": "text/x-python",
   "name": "python",
   "nbconvert_exporter": "python",
   "pygments_lexer": "ipython3",
   "version": "3.9.7"
  }
 },
 "nbformat": 4,
 "nbformat_minor": 2
}
