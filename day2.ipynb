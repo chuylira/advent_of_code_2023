{
 "cells": [
  {
   "cell_type": "code",
   "execution_count": 19,
   "metadata": {},
   "outputs": [
    {
     "name": "stdout",
     "output_type": "stream",
     "text": [
      "2913\n"
     ]
    }
   ],
   "source": [
    "f=open('day2_input1.txt','r')\n",
    "suma=0\n",
    "for i in f:\n",
    "    row_list=i.split(':')\n",
    "    game_id=int(row_list[0].split()[1])\n",
    "    sets=row_list[1].split(';')\n",
    "    valid_check=True\n",
    "    for s in sets:\n",
    "        dices=s.split(',')\n",
    "        for d in dices:\n",
    "            d_list=d.strip().split()\n",
    "            if d_list[1]=='green':\n",
    "                if int(d_list[0])>13:\n",
    "                    valid_check=False\n",
    "                    break\n",
    "            elif d_list[1]=='blue':\n",
    "                if int(d_list[0])>14:\n",
    "                    valid_check=False\n",
    "                    break\n",
    "            else:\n",
    "                if int(d_list[0])>12:\n",
    "                    valid_check=False\n",
    "                    break\n",
    "        else:\n",
    "            continue\n",
    "        break\n",
    "    if valid_check:\n",
    "        suma+=game_id\n",
    "\n",
    "print(suma)\n",
    "            "
   ]
  },
  {
   "cell_type": "code",
   "execution_count": 34,
   "metadata": {},
   "outputs": [
    {
     "name": "stdout",
     "output_type": "stream",
     "text": [
      "55593\n"
     ]
    }
   ],
   "source": [
    "f=open('day2_input1.txt','r')\n",
    "suma=0\n",
    "for i in f:\n",
    "    row_list=i.split(':')\n",
    "    game_id=int(row_list[0].split()[1])\n",
    "    sets=row_list[1].split(';')\n",
    "    valid_check=True\n",
    "    game_dict={}\n",
    "    for s in sets:\n",
    "        dices=s.split(',')\n",
    "        for d in dices:\n",
    "            d_list=d.strip().split()\n",
    "            game_dict.setdefault(d_list[1],[]).append(int(d_list[0]))\n",
    "    \n",
    "    multi=1\n",
    "    for color in game_dict.keys():\n",
    "        min_color=max(game_dict[color])\n",
    "        multi*=min_color\n",
    "    suma+=multi\n",
    "\n",
    "print(suma)            "
   ]
  },
  {
   "cell_type": "code",
   "execution_count": 23,
   "metadata": {},
   "outputs": [
    {
     "name": "stdout",
     "output_type": "stream",
     "text": [
      "{'example': ['hola', 'new_value']}\n"
     ]
    }
   ],
   "source": [
    "my_dict = {'example':['hola']}\n",
    "key = \"example\"\n",
    "\n",
    "# If the key exists, append the new value to the existing list; otherwise, create a new list with the value\n",
    "my_dict.setdefault(key, []).append(\"new_value\")\n",
    "\n",
    "print(my_dict)\n"
   ]
  }
 ],
 "metadata": {
  "kernelspec": {
   "display_name": "base",
   "language": "python",
   "name": "python3"
  },
  "language_info": {
   "codemirror_mode": {
    "name": "ipython",
    "version": 3
   },
   "file_extension": ".py",
   "mimetype": "text/x-python",
   "name": "python",
   "nbconvert_exporter": "python",
   "pygments_lexer": "ipython3",
   "version": "3.9.7"
  }
 },
 "nbformat": 4,
 "nbformat_minor": 2
}
