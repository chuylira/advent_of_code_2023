{
 "cells": [
  {
   "cell_type": "code",
   "execution_count": 7,
   "metadata": {},
   "outputs": [
    {
     "name": "stdout",
     "output_type": "stream",
     "text": [
      "33950\n"
     ]
    }
   ],
   "source": [
    "f=open('day4_input1.txt','r')\n",
    "suma=0\n",
    "for i in f:\n",
    "    all_numbers=i.split(':')[1]\n",
    "    all_numbers = all_numbers.split('|')\n",
    "    winning_list = all_numbers[0].split()\n",
    "    have_list = all_numbers[1].split()\n",
    "    matches = set(winning_list).intersection(have_list)\n",
    "    if len(matches)>0:\n",
    "        power = len(matches)-1\n",
    "        suma += (2**power)\n",
    "\n",
    "print(suma)"
   ]
  },
  {
   "cell_type": "code",
   "execution_count": 34,
   "metadata": {},
   "outputs": [
    {
     "name": "stdout",
     "output_type": "stream",
     "text": [
      "14814534\n"
     ]
    }
   ],
   "source": [
    "f=open('day4_input1.txt','r')\n",
    "lines = f.readlines()\n",
    "d={}\n",
    "for i in range(1,len(lines)+1):\n",
    "    d.setdefault(i,[1])\n",
    "\n",
    "for card_id,line in enumerate(lines,1):\n",
    "    all_numbers=line.split(':')[1]\n",
    "    all_numbers = all_numbers.split('|')\n",
    "    winning_list = all_numbers[0].split()\n",
    "    have_list = all_numbers[1].split()\n",
    "    matches = set(winning_list).intersection(have_list)\n",
    "    for _ in range(0,len(d[card_id])):\n",
    "        for w in range(1,len(matches)+1):\n",
    "            d[card_id+w].append(1)\n",
    "        \n",
    "suma = [len(value) for k,value in d.items()]\n",
    "suma = sum(suma)\n",
    "print(suma)"
   ]
  }
 ],
 "metadata": {
  "kernelspec": {
   "display_name": "base",
   "language": "python",
   "name": "python3"
  },
  "language_info": {
   "codemirror_mode": {
    "name": "ipython",
    "version": 3
   },
   "file_extension": ".py",
   "mimetype": "text/x-python",
   "name": "python",
   "nbconvert_exporter": "python",
   "pygments_lexer": "ipython3",
   "version": "3.9.7"
  }
 },
 "nbformat": 4,
 "nbformat_minor": 2
}
